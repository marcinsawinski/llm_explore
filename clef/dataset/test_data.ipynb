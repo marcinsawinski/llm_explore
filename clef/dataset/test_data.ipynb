{
 "cells": [
  {
   "cell_type": "code",
   "execution_count": 1,
   "metadata": {},
   "outputs": [],
   "source": [
    "import pandas as pd"
   ]
  },
  {
   "cell_type": "code",
   "execution_count": 21,
   "metadata": {},
   "outputs": [
    {
     "data": {
      "text/plain": [
       "0        Y\n",
       "1        Y\n",
       "2        Y\n",
       "3        Y\n",
       "4        Y\n",
       "        ..\n",
       "32385    N\n",
       "32386    N\n",
       "32387    N\n",
       "32388    N\n",
       "32389    N\n",
       "Name: claimbuster, Length: 32390, dtype: object"
      ]
     },
     "execution_count": 21,
     "metadata": {},
     "output_type": "execute_result"
    }
   ],
   "source": [
    "df.claimbuster.replace({'1':'Y'})"
   ]
  },
  {
   "cell_type": "code",
   "execution_count": 48,
   "metadata": {},
   "outputs": [],
   "source": [
    "df = pd.read_csv('/Users/marcinsawinski/Documents/GitHub/llm_explore/clef/claimbuster_total.csv')\n",
    "df.rename(columns={'all':'claimbuster'}, inplace=True)\n",
    "df.claimbuster.replace({'1':'Y'}, inplace=True)\n",
    "df.label_ncs.replace({'N':'NA'}, inplace=True)\n",
    "df.annotation.replace({'N':'NA'}, inplace=True)\n",
    "df.Verdict.replace({'N':'NA'}, inplace=True)\n",
    "df.label_clef.replace({'N':'NA'}, inplace=True)\n",
    "df.split.replace({'N':'NA'}, inplace=True)\n",
    "df.Text_clef.replace({'N':'NA'}, inplace=True)\n",
    "\n",
    "df.to_csv('/Users/marcinsawinski/Documents/GitHub/llm_explore/clef/claimbuster_total_dataset.csv')"
   ]
  },
  {
   "cell_type": "code",
   "execution_count": 47,
   "metadata": {},
   "outputs": [
    {
     "data": {
      "text/plain": [
       "Text_clef\n",
       "NA                                                                                                                                                                                 8539\n",
       "#NAME?                                                                                                                                                                                6\n",
       "I'll give you an example.                                                                                                                                                             4\n",
       "Thank you for your question.                                                                                                                                                          4\n",
       "I did not say that.                                                                                                                                                                   3\n",
       "                                                                                                                                                                                   ... \n",
       "I don't believe we need a good judge of that kind of definition on either side.                                                                                                       1\n",
       "I don't believe we need a good conservative judge, and I don't believe we need a good liberal judge.                                                                                  1\n",
       "I don't believe trickle down economics will work.                                                                                                                                     1\n",
       "I don't believe there's any burden, or any responsibility, that any American would not assume to protect his country, to protect our security, to advance the cause of freedom.       1\n",
       "Ã‚ But I do have a lot of experience in getting things done.                                                                                                                          1\n",
       "Name: count, Length: 23740, dtype: int64"
      ]
     },
     "execution_count": 47,
     "metadata": {},
     "output_type": "execute_result"
    }
   ],
   "source": [
    "df.value_counts('Text_clef')"
   ]
  }
 ],
 "metadata": {
  "kernelspec": {
   "display_name": "llm_explore",
   "language": "python",
   "name": "python3"
  },
  "language_info": {
   "codemirror_mode": {
    "name": "ipython",
    "version": 3
   },
   "file_extension": ".py",
   "mimetype": "text/x-python",
   "name": "python",
   "nbconvert_exporter": "python",
   "pygments_lexer": "ipython3",
   "version": "3.11.5"
  }
 },
 "nbformat": 4,
 "nbformat_minor": 2
}
