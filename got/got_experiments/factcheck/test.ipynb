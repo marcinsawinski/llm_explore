{
 "cells": [
  {
   "cell_type": "code",
   "execution_count": 57,
   "metadata": {},
   "outputs": [],
   "source": [
    "import pandas as pd\n",
    "import time\n"
   ]
  },
  {
   "cell_type": "code",
   "execution_count": 27,
   "metadata": {},
   "outputs": [
    {
     "data": {
      "text/html": [
       "<div>\n",
       "<style scoped>\n",
       "    .dataframe tbody tr th:only-of-type {\n",
       "        vertical-align: middle;\n",
       "    }\n",
       "\n",
       "    .dataframe tbody tr th {\n",
       "        vertical-align: top;\n",
       "    }\n",
       "\n",
       "    .dataframe thead th {\n",
       "        text-align: right;\n",
       "    }\n",
       "</style>\n",
       "<table border=\"1\" class=\"dataframe\">\n",
       "  <thead>\n",
       "    <tr style=\"text-align: right;\">\n",
       "      <th></th>\n",
       "      <th>Claim</th>\n",
       "      <th>Checkworthy</th>\n",
       "      <th>Verdict</th>\n",
       "    </tr>\n",
       "    <tr>\n",
       "      <th>ID</th>\n",
       "      <th></th>\n",
       "      <th></th>\n",
       "      <th></th>\n",
       "    </tr>\n",
       "  </thead>\n",
       "  <tbody>\n",
       "    <tr>\n",
       "      <th>0</th>\n",
       "      <td>I'm hungry. I need to eat breakfast</td>\n",
       "      <td>False</td>\n",
       "      <td>NaN</td>\n",
       "    </tr>\n",
       "    <tr>\n",
       "      <th>1</th>\n",
       "      <td>Ukrainian President Volodymyr Zelenskyy said h...</td>\n",
       "      <td>True</td>\n",
       "      <td>False</td>\n",
       "    </tr>\n",
       "    <tr>\n",
       "      <th>2</th>\n",
       "      <td>Volodymyr Zelensky 'calls for preventative nuc...</td>\n",
       "      <td>True</td>\n",
       "      <td>False</td>\n",
       "    </tr>\n",
       "    <tr>\n",
       "      <th>3</th>\n",
       "      <td>Nigeria ranked third in 2020 Global Terrorism ...</td>\n",
       "      <td>True</td>\n",
       "      <td>True</td>\n",
       "    </tr>\n",
       "  </tbody>\n",
       "</table>\n",
       "</div>"
      ],
      "text/plain": [
       "                                                Claim  Checkworthy Verdict\n",
       "ID                                                                        \n",
       "0                 I'm hungry. I need to eat breakfast        False     NaN\n",
       "1   Ukrainian President Volodymyr Zelenskyy said h...         True   False\n",
       "2   Volodymyr Zelensky 'calls for preventative nuc...         True   False\n",
       "3   Nigeria ranked third in 2020 Global Terrorism ...         True    True"
      ]
     },
     "execution_count": 27,
     "metadata": {},
     "output_type": "execute_result"
    }
   ],
   "source": [
    "data = []\n",
    "file_path = '/Users/marcinsawinski/Documents/GitHub/llm_explore/got/got_experiments/factcheck/factcheck.csv'\n",
    "df = pd.read_csv(file_path,skipinitialspace=True, index_col='ID')\n",
    "df"
   ]
  },
  {
   "cell_type": "code",
   "execution_count": 49,
   "metadata": {},
   "outputs": [],
   "source": [
    "import random\n",
    "import string\n",
    "\n",
    "def get_random_string(length):\n",
    "    letters = string.ascii_lowercase\n",
    "    return''.join(random.choice(letters) for i in range(length))\n",
    "\n",
    "data = [[get_random_string(200),get_random_string(5)] for i in range(10000000)]\n",
    "df = pd.DataFrame(data, columns=['text','attr'])\n",
    "df.to_csv('text_lookup.csv', index=False)\n",
    "\n"
   ]
  },
  {
   "cell_type": "code",
   "execution_count": 200,
   "metadata": {},
   "outputs": [
    {
     "name": "stdout",
     "output_type": "stream",
     "text": [
      "0.0004209999999602587\n",
      "['ID', 'Claim', 'Checkworthy', 'Verdict']\n",
      "[['0', \"I'm hungry. I need to eat breakfast\", 'False', ''], ['1', \"Ukrainian President Volodymyr Zelenskyy said he wants America's 'sons and daughters to go die in Ukraine'.\", 'True', 'False'], ['2', \"Volodymyr Zelensky 'calls for preventative nuclear attack against Russia'.\", 'True', 'False'], ['3', 'Nigeria ranked third in 2020 Global Terrorism Index', 'True', 'True']]\n",
      "{\"I'm hungry. I need to eat breakfast\": {'Checkworthy': 'False', 'Verdict': ''}, \"Ukrainian President Volodymyr Zelenskyy said he wants America's 'sons and daughters to go die in Ukraine'.\": {'Checkworthy': 'True', 'Verdict': 'False'}, \"Volodymyr Zelensky 'calls for preventative nuclear attack against Russia'.\": {'Checkworthy': 'True', 'Verdict': 'False'}, 'Nigeria ranked third in 2020 Global Terrorism Index': {'Checkworthy': 'True', 'Verdict': 'True'}}\n"
     ]
    }
   ],
   "source": [
    "data =[]\n",
    "data_dict = dict()\n",
    "start = time.process_time() \n",
    "with open(file_path, \"r\") as f:\n",
    "    reader = csv.reader(f,delimiter=',', quotechar='\"', skipinitialspace=True)\n",
    "    header = next(reader)\n",
    "    for row in reader:\n",
    "        data.append(row)\n",
    "        data_dict.update({row[1]:{ header[2+i]:row[2+i] for i  in range(len(header[2:]))}})\n",
    "print(time.process_time() - start)\n",
    "print(header)\n",
    "print(data,data_dict, sep='\\n')"
   ]
  },
  {
   "cell_type": "code",
   "execution_count": 185,
   "metadata": {},
   "outputs": [
    {
     "name": "stdout",
     "output_type": "stream",
     "text": [
      "15.125377000000071\n"
     ]
    }
   ],
   "source": [
    "data =[]\n",
    "start = time.process_time() \n",
    "with open('text_lookup.csv', \"r\") as f:\n",
    "    reader = csv.reader(f,delimiter=',', quotechar='\"', skipinitialspace=True)\n",
    "    next(reader)\n",
    "    for row in reader:\n",
    "        data.append([row[0], row[1]])\n",
    "print(time.process_time() - start)"
   ]
  },
  {
   "cell_type": "code",
   "execution_count": 187,
   "metadata": {},
   "outputs": [
    {
     "data": {
      "text/plain": [
       "10000001"
      ]
     },
     "execution_count": 187,
     "metadata": {},
     "output_type": "execute_result"
    }
   ],
   "source": [
    "reader._"
   ]
  },
  {
   "cell_type": "code",
   "execution_count": 59,
   "metadata": {},
   "outputs": [
    {
     "name": "stdout",
     "output_type": "stream",
     "text": [
      "19.772340999999983\n"
     ]
    }
   ],
   "source": [
    "start = time.process_time() \n",
    "df = pd.read_csv('text_lookup.csv')\n",
    "print(time.process_time() - start)"
   ]
  },
  {
   "cell_type": "code",
   "execution_count": 75,
   "metadata": {},
   "outputs": [
    {
     "name": "stdout",
     "output_type": "stream",
     "text": [
      "0.00012699999996357292\n"
     ]
    }
   ],
   "source": [
    "start = time.process_time() \n",
    "print(df.iloc[100].values)\n",
    "print(time.process_time() - start)"
   ]
  },
  {
   "cell_type": "code",
   "execution_count": 125,
   "metadata": {},
   "outputs": [
    {
     "name": "stdout",
     "output_type": "stream",
     "text": [
      "rfatjmagnzyicieptuaksqpyaljmxafgchyqsalsfbnbvujwsxqvkpexoezxjdehlwxmrnbppzjcrytojkhqxkgruwpafzvvbufzufjkkxuwsdevnyjikxsnlwpcdbbxhgcxjmuftnjbsgbseuwggqihssrkfiacpjojblxzpizjkpnrzjwmqgxovnfzjmdgzerogwtx\n",
      "0.00028199999997013947\n"
     ]
    }
   ],
   "source": [
    "start = time.process_time() \n",
    "print(df.iloc[1000].values[0])\n",
    "print(time.process_time() - start)"
   ]
  },
  {
   "cell_type": "code",
   "execution_count": 124,
   "metadata": {},
   "outputs": [
    {
     "name": "stdout",
     "output_type": "stream",
     "text": [
      "gnsboddujcuokgapsfhtjfrruycrolvcahftfdlztbdsamewfznuvgqjiqiuhkvopdmkkkcikzxvofzvdpfewowzikebiivbmetrgzimbkxzhkpnxehlrabjbhpyutooilkykyaqovovjoksccblghlgpxaoaalweijafpjuvsypzuxqbxgaidiporoticoqxdgandan\n",
      "0.00031799999999293505\n"
     ]
    }
   ],
   "source": [
    "start = time.process_time() \n",
    "print(df.iloc[999999].values[0])\n",
    "print(time.process_time() - start)"
   ]
  },
  {
   "cell_type": "code",
   "execution_count": 147,
   "metadata": {},
   "outputs": [],
   "source": [
    "t = 'gnsboddujcuokgapsfhtjfrruycrolvcahftfdlztbdsamewfznuvgqjiqiuhkvopdmkkkcikzxvofzvdpfewowzikebiivbmetrgzimbkxzhkpnxehlrabjbhpyutooilkykyaqovovjoksccblghlgpxaoaalweijafpjuvsypzuxqbxgaidiporoticoqxdgandan'\n",
    "t='rfatjmagnzyicieptuaksqpyaljmxafgchyqsalsfbnbvujwsxqvkpexoezxjdehlwxmrnbppzjcrytojkhqxkgruwpafzvvbufzufjkkxuwsdevnyjikxsnlwpcdbbxhgcxjmuftnjbsgbseuwggqihssrkfiacpjojblxzpizjkpnrzjwmqgxovnfzjmdgzerogwtx'"
   ]
  },
  {
   "cell_type": "code",
   "execution_count": 153,
   "metadata": {},
   "outputs": [
    {
     "name": "stdout",
     "output_type": "stream",
     "text": [
      "vmxvl\n",
      "0.31567300000000387\n"
     ]
    }
   ],
   "source": [
    "start = time.process_time() \n",
    "print(df.loc[df['text'] == t, 'attr'].item())\n",
    "print(time.process_time() - start)"
   ]
  },
  {
   "cell_type": "code",
   "execution_count": 146,
   "metadata": {},
   "outputs": [],
   "source": [
    "data_dict = {k:{'attr':a1} for k, a1,a2,a3 in zip(df.text, df.attr,df.attr,df.attr)}"
   ]
  },
  {
   "cell_type": "code",
   "execution_count": 181,
   "metadata": {},
   "outputs": [
    {
     "name": "stdout",
     "output_type": "stream",
     "text": [
      "{'attr': 'vmxvl'}\n",
      "7.59999999786487e-05\n"
     ]
    }
   ],
   "source": [
    "start = time.process_time() \n",
    "print(data_dict[t])\n",
    "print(time.process_time() - start)"
   ]
  }
 ],
 "metadata": {
  "kernelspec": {
   "display_name": "llm_explore",
   "language": "python",
   "name": "python3"
  },
  "language_info": {
   "codemirror_mode": {
    "name": "ipython",
    "version": 3
   },
   "file_extension": ".py",
   "mimetype": "text/x-python",
   "name": "python",
   "nbconvert_exporter": "python",
   "pygments_lexer": "ipython3",
   "version": "3.11.5"
  }
 },
 "nbformat": 4,
 "nbformat_minor": 2
}
